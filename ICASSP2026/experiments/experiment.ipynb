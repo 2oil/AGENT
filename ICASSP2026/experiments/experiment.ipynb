{
 "cells": [
  {
   "cell_type": "markdown",
   "id": "91269c71",
   "metadata": {},
   "source": [
    "## Cascading"
   ]
  },
  {
   "cell_type": "code",
   "execution_count": 27,
   "id": "6d4399a2",
   "metadata": {},
   "outputs": [
    {
     "name": "stdout",
     "output_type": "stream",
     "text": [
      "✅ Total pairs: 4000\n",
      "✅ OC pass rate:     76.58%\n",
      "✅ ResNet34 pass rate: 18.77%\n",
      "✅ BOTH pass rate:   14.35%\n",
      "✅ NONE pass rate:   19.00%\n"
     ]
    }
   ],
   "source": [
    "import pandas as pd\n",
    "\n",
    "# ===== 파일 경로 =====\n",
    "OC_FILE  = \"/home/eoil/AGENT/ICASSP2026/experiments/results/findings/ASV_thr/004/resnetOC.txt\"\n",
    "R34_FILE = \"/home/eoil/AGENT/ICASSP2026/experiments/results/findings/ASV_thr/004/resnet34.txt\"\n",
    "\n",
    "# ===== Threshold 설정 =====\n",
    "OC_THRESHOLD  = 0.99\n",
    "R34_THRESHOLD = 0.42\n",
    "\n",
    "# ===== 파일 로드 =====\n",
    "# resnetOC.txt\n",
    "df_oc = pd.read_csv(OC_FILE, delim_whitespace=True, header=None, names=[\"pair\", \"oc_score\"])\n",
    "\n",
    "# resnet34.txt\n",
    "df_r34 = pd.read_csv(R34_FILE)\n",
    "\n",
    "# key 만들기 (utt_id + \"_\" + enroll_id)\n",
    "df_r34[\"pair\"] = df_r34[\"utt_id\"].astype(str) + \"_\" + df_r34[\"enroll_id\"].astype(str)\n",
    "\n",
    "# ===== merge =====\n",
    "df = pd.merge(df_oc, df_r34, on=\"pair\", how=\"inner\")\n",
    "\n",
    "# ===== 판정 =====\n",
    "df[\"oc_pass\"]  = df[\"oc_score\"]      >= OC_THRESHOLD\n",
    "df[\"r34_pass\"] = df[\"cosine_score\"]  >= R34_THRESHOLD\n",
    "df[\"both_pass\"] = df[\"oc_pass\"] & df[\"r34_pass\"]\n",
    "\n",
    "# ===== 비율 계산 =====\n",
    "total = len(df)\n",
    "oc_rate   = df[\"oc_pass\"].mean()\n",
    "r34_rate  = df[\"r34_pass\"].mean()\n",
    "both_rate = df[\"both_pass\"].mean()\n",
    "none_rate = ((~df[\"oc_pass\"]) & (~df[\"r34_pass\"])).mean()\n",
    "\n",
    "print(f\"✅ Total pairs: {total}\")\n",
    "print(f\"✅ OC pass rate:     {oc_rate*100:.2f}%\")\n",
    "print(f\"✅ ResNet34 pass rate: {r34_rate*100:.2f}%\")\n",
    "print(f\"✅ BOTH pass rate:   {both_rate*100:.2f}%\")\n",
    "print(f\"✅ NONE pass rate:   {none_rate*100:.2f}%\")  # 둘 다 못 넘긴 경우\n"
   ]
  },
  {
   "cell_type": "markdown",
   "id": "6585eb70",
   "metadata": {},
   "source": [
    "## Score sum v1"
   ]
  },
  {
   "cell_type": "code",
   "execution_count": 59,
   "id": "d4f877c1",
   "metadata": {},
   "outputs": [
    {
     "name": "stdout",
     "output_type": "stream",
     "text": [
      "✅ Total pairs: 4000\n",
      "✅ SUM >= 1.51 pass rate: 86.65%\n"
     ]
    }
   ],
   "source": [
    "import pandas as pd\n",
    "\n",
    "# ===== 파일 경로 =====\n",
    "OC_FILE  = \"/home/eoil/AGENT/ICASSP2026/experiments/results/AGENT_ECA_AA/016/resnetOC.txt\"\n",
    "R34_FILE = \"/home/eoil/AGENT/ICASSP2026/experiments/results/AGENT_ECA_AA/016/resnet34.txt\"\n",
    "\n",
    "# ===== 합산 Threshold 설정 =====\n",
    "SUM_THRESHOLD = 1.51\n",
    "\n",
    "# ===== 파일 로드 =====\n",
    "# resnetOC.txt\n",
    "df_oc = pd.read_csv(OC_FILE, delim_whitespace=True, header=None, names=[\"pair\", \"oc_score\"])\n",
    "\n",
    "# resnet34.txt\n",
    "df_r34 = pd.read_csv(R34_FILE)\n",
    "\n",
    "# key 만들기 (utt_id + \"_\" + enroll_id)\n",
    "df_r34[\"pair\"] = df_r34[\"utt_id\"].astype(str) + \"_\" + df_r34[\"enroll_id\"].astype(str)\n",
    "\n",
    "# ===== merge =====\n",
    "df = pd.merge(df_oc, df_r34, on=\"pair\", how=\"inner\")\n",
    "\n",
    "# ===== 합산 점수 계산 =====\n",
    "df[\"sum_score\"] = df[\"oc_score\"] + df[\"cosine_score\"]\n",
    "\n",
    "# ===== 합산 threshold 판정 =====\n",
    "df[\"sum_pass\"] = df[\"sum_score\"] >= SUM_THRESHOLD\n",
    "\n",
    "# ===== 비율 계산 =====\n",
    "total = len(df)\n",
    "pass_rate = df[\"sum_pass\"].mean()\n",
    "fail_rate = 1 - pass_rate\n",
    "\n",
    "print(f\"✅ Total pairs: {total}\")\n",
    "print(f\"✅ SUM >= {SUM_THRESHOLD} pass rate: {pass_rate*100:.2f}%\")\n"
   ]
  },
  {
   "cell_type": "markdown",
   "id": "6e773df7",
   "metadata": {},
   "source": [
    "## v2 ASR"
   ]
  },
  {
   "cell_type": "code",
   "execution_count": null,
   "id": "70145eca",
   "metadata": {},
   "outputs": [
    {
     "name": "stdout",
     "output_type": "stream",
     "text": [
      "✅ Total pairs: 4000\n",
      "✅ SUM >= 1.27 pass rate: 0.00%\n"
     ]
    }
   ],
   "source": [
    "import pandas as pd\n",
    "import numpy as np\n",
    "\n",
    "# ===== 파일 경로 =====\n",
    "OC_FILE  = \"/home/eoil/AGENT/ICASSP2026/experiments/results/findings/ASV_thr/004/resnetOC.txt\"\n",
    "R34_FILE = \"/home/eoil/AGENT/ICASSP2026/experiments/results/findings/ASV_thr/004/resnet34.txt\"\n",
    "\n",
    "# ===== 합산 Threshold 설정 =====\n",
    "SUM_THRESHOLD = 1.27\n",
    "\n",
    "def sigmoid(x):\n",
    "    return 1 / (1 + np.exp(-x))\n",
    "\n",
    "# ===== 파일 로드 =====\n",
    "# resnetOC.txt\n",
    "df_oc = pd.read_csv(OC_FILE, delim_whitespace=True, header=None, names=[\"pair\", \"oc_score\"])\n",
    "\n",
    "# resnet34.txt\n",
    "df_r34 = pd.read_csv(R34_FILE)\n",
    "\n",
    "# key 만들기 (utt_id + \"_\" + enroll_id)\n",
    "df_r34[\"pair\"] = df_r34[\"utt_id\"].astype(str) + \"_\" + df_r34[\"enroll_id\"].astype(str)\n",
    "\n",
    "# ===== merge =====\n",
    "df = pd.merge(df_oc, df_r34, on=\"pair\", how=\"inner\")\n",
    "\n",
    "# ===== 합산 점수 계산 =====\n",
    "df[\"sum_score\"] = sigmoid(df[\"oc_score\"]) + df[\"cosine_score\"]\n",
    "\n",
    "# ===== 합산 threshold 판정 =====\n",
    "df[\"sum_pass\"] = df[\"sum_score\"] >= SUM_THRESHOLD\n",
    "\n",
    "# ===== 비율 계산 =====\n",
    "total = len(df)\n",
    "pass_rate = df[\"sum_pass\"].mean()\n",
    "fail_rate = 1 - pass_rate\n",
    "\n",
    "print(f\"✅ Total pairs: {total}\")\n",
    "print(f\"✅ SUM >= {SUM_THRESHOLD} pass rate: {pass_rate*100:.2f}%\")\n"
   ]
  },
  {
   "cell_type": "code",
   "execution_count": null,
   "id": "ae9b6891",
   "metadata": {},
   "outputs": [],
   "source": []
  }
 ],
 "metadata": {
  "kernelspec": {
   "display_name": "ad",
   "language": "python",
   "name": "python3"
  },
  "language_info": {
   "codemirror_mode": {
    "name": "ipython",
    "version": 3
   },
   "file_extension": ".py",
   "mimetype": "text/x-python",
   "name": "python",
   "nbconvert_exporter": "python",
   "pygments_lexer": "ipython3",
   "version": "3.8.20"
  }
 },
 "nbformat": 4,
 "nbformat_minor": 5
}
